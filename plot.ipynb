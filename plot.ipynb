import numpy as np 
import matplotlib.pyplot as plt
from read import *
unzip KURS
data_test1=readin(./KURS/test1/') 
file path =data_test1[0] 
z=data_test1[1] 
cf=data_test1[8]
ax=plt.subplot() 
ax.contourf(t,z,cf,cmap='Reds')
